{
  "nbformat": 4,
  "nbformat_minor": 0,
  "metadata": {
    "colab": {
      "name": "spark.ipynb",
      "provenance": [],
      "collapsed_sections": [],
      "authorship_tag": "ABX9TyNOj9WPszoEk+XyqU9s3jtX",
      "include_colab_link": true
    },
    "kernelspec": {
      "name": "python3",
      "display_name": "Python 3"
    },
    "language_info": {
      "name": "python"
    }
  },
  "cells": [
    {
      "cell_type": "markdown",
      "metadata": {
        "id": "view-in-github",
        "colab_type": "text"
      },
      "source": [
        "<a href=\"https://colab.research.google.com/github/lucatraverso/PySpark/blob/main/spark.ipynb\" target=\"_parent\"><img src=\"https://colab.research.google.com/assets/colab-badge.svg\" alt=\"Open In Colab\"/></a>"
      ]
    },
    {
      "cell_type": "code",
      "metadata": {
        "colab": {
          "base_uri": "https://localhost:8080/"
        },
        "id": "HrJ1vcf8vqOU",
        "outputId": "e8f08173-ca20-40b2-de02-6800a5261c17"
      },
      "source": [
        "!pip install pyspark"
      ],
      "execution_count": 2,
      "outputs": [
        {
          "output_type": "stream",
          "text": [
            "Collecting pyspark\n",
            "  Downloading pyspark-3.1.2.tar.gz (212.4 MB)\n",
            "\u001b[K     |████████████████████████████████| 212.4 MB 63 kB/s \n",
            "\u001b[?25hCollecting py4j==0.10.9\n",
            "  Downloading py4j-0.10.9-py2.py3-none-any.whl (198 kB)\n",
            "\u001b[K     |████████████████████████████████| 198 kB 60.9 MB/s \n",
            "\u001b[?25hBuilding wheels for collected packages: pyspark\n",
            "  Building wheel for pyspark (setup.py) ... \u001b[?25l\u001b[?25hdone\n",
            "  Created wheel for pyspark: filename=pyspark-3.1.2-py2.py3-none-any.whl size=212880768 sha256=32b4f643e6b35b6937b3fd4652eb8cc0fc1da7f7e1c0c4f5da1c1907bbef8b45\n",
            "  Stored in directory: /root/.cache/pip/wheels/a5/0a/c1/9561f6fecb759579a7d863dcd846daaa95f598744e71b02c77\n",
            "Successfully built pyspark\n",
            "Installing collected packages: py4j, pyspark\n",
            "Successfully installed py4j-0.10.9 pyspark-3.1.2\n"
          ],
          "name": "stdout"
        }
      ]
    },
    {
      "cell_type": "code",
      "metadata": {
        "id": "NVTh0EOlxFqf"
      },
      "source": [
        "import pyspark"
      ],
      "execution_count": 3,
      "outputs": []
    },
    {
      "cell_type": "code",
      "metadata": {
        "id": "GHcw2rEYxKRK"
      },
      "source": [
        "from pyspark.sql import SparkSession"
      ],
      "execution_count": 4,
      "outputs": []
    },
    {
      "cell_type": "code",
      "metadata": {
        "id": "_G8Pdk9xxt6n"
      },
      "source": [
        "spark = SparkSession.builder.appName('Practica').getOrCreate()"
      ],
      "execution_count": 5,
      "outputs": []
    },
    {
      "cell_type": "code",
      "metadata": {
        "colab": {
          "base_uri": "https://localhost:8080/",
          "height": 222
        },
        "id": "DLBw9ClTBwan",
        "outputId": "3b361195-0aba-4125-d7ad-f8102effc8c7"
      },
      "source": [
        "spark"
      ],
      "execution_count": 8,
      "outputs": [
        {
          "output_type": "execute_result",
          "data": {
            "text/html": [
              "\n",
              "            <div>\n",
              "                <p><b>SparkSession - in-memory</b></p>\n",
              "                \n",
              "        <div>\n",
              "            <p><b>SparkContext</b></p>\n",
              "\n",
              "            <p><a href=\"http://3ad75063be7e:4040\">Spark UI</a></p>\n",
              "\n",
              "            <dl>\n",
              "              <dt>Version</dt>\n",
              "                <dd><code>v3.1.2</code></dd>\n",
              "              <dt>Master</dt>\n",
              "                <dd><code>local[*]</code></dd>\n",
              "              <dt>AppName</dt>\n",
              "                <dd><code>Practica</code></dd>\n",
              "            </dl>\n",
              "        </div>\n",
              "        \n",
              "            </div>\n",
              "        "
            ],
            "text/plain": [
              "<pyspark.sql.session.SparkSession at 0x7fea7a53fd10>"
            ]
          },
          "metadata": {
            "tags": []
          },
          "execution_count": 8
        }
      ]
    },
    {
      "cell_type": "code",
      "metadata": {
        "id": "tZNo3ImOyfhC"
      },
      "source": [
        "### READ THE DATASET\n",
        "\n",
        "df_pyspark = spark.read.option('header', 'True').csv('example.csv')"
      ],
      "execution_count": 6,
      "outputs": []
    },
    {
      "cell_type": "code",
      "metadata": {
        "colab": {
          "base_uri": "https://localhost:8080/"
        },
        "id": "jSzTJshqykIT",
        "outputId": "52aae2b7-7fbf-498e-80d4-e8578d5f638d"
      },
      "source": [
        "df_pyspark.show()"
      ],
      "execution_count": 7,
      "outputs": [
        {
          "output_type": "stream",
          "text": [
            "+--------+---+----------+\n",
            "|    Name|Age|Experience|\n",
            "+--------+---+----------+\n",
            "|Cristian| 31|        10|\n",
            "|    Luca| 28|         8|\n",
            "|    Juan| 30|         6|\n",
            "+--------+---+----------+\n",
            "\n"
          ],
          "name": "stdout"
        }
      ]
    },
    {
      "cell_type": "code",
      "metadata": {
        "colab": {
          "base_uri": "https://localhost:8080/"
        },
        "id": "GFA6DI6uGKAQ",
        "outputId": "65f62ac0-8d4f-41d8-c517-ac860b37fc46"
      },
      "source": [
        "df_pyspark = spark.read.csv('example.csv', header=True, inferSchema=True)\n",
        "df_pyspark.show()"
      ],
      "execution_count": 33,
      "outputs": [
        {
          "output_type": "stream",
          "text": [
            "+--------+---+----------+\n",
            "|    Name|Age|Experience|\n",
            "+--------+---+----------+\n",
            "|Cristian| 31|        10|\n",
            "|    Luca| 28|         8|\n",
            "|    Juan| 30|         6|\n",
            "+--------+---+----------+\n",
            "\n"
          ],
          "name": "stdout"
        }
      ]
    },
    {
      "cell_type": "code",
      "metadata": {
        "colab": {
          "base_uri": "https://localhost:8080/"
        },
        "id": "7ri3yjBdHDvy",
        "outputId": "969ccf71-e0a4-440e-fb58-75b0923466dc"
      },
      "source": [
        "df_pyspark.printSchema()"
      ],
      "execution_count": 12,
      "outputs": [
        {
          "output_type": "stream",
          "text": [
            "root\n",
            " |-- Name: string (nullable = true)\n",
            " |-- Age: integer (nullable = true)\n",
            " |-- Experience: integer (nullable = true)\n",
            "\n"
          ],
          "name": "stdout"
        }
      ]
    },
    {
      "cell_type": "code",
      "metadata": {
        "colab": {
          "base_uri": "https://localhost:8080/"
        },
        "id": "ZA5-biN0HLRt",
        "outputId": "691e7f6d-9fbb-4b90-9b26-60e7e55bcfbf"
      },
      "source": [
        "df_pyspark.select(['Name', 'Experience']).show()"
      ],
      "execution_count": 17,
      "outputs": [
        {
          "output_type": "stream",
          "text": [
            "+--------+----------+\n",
            "|    Name|Experience|\n",
            "+--------+----------+\n",
            "|Cristian|        10|\n",
            "|    Luca|         8|\n",
            "|    Juan|         6|\n",
            "+--------+----------+\n",
            "\n"
          ],
          "name": "stdout"
        }
      ]
    },
    {
      "cell_type": "code",
      "metadata": {
        "colab": {
          "base_uri": "https://localhost:8080/"
        },
        "id": "3nHCmGa4JecP",
        "outputId": "d932ac83-84b5-4826-c707-380098d20ac9"
      },
      "source": [
        "df_pyspark.describe().show()"
      ],
      "execution_count": 19,
      "outputs": [
        {
          "output_type": "stream",
          "text": [
            "+-------+--------+------------------+----------+\n",
            "|summary|    Name|               Age|Experience|\n",
            "+-------+--------+------------------+----------+\n",
            "|  count|       3|                 3|         3|\n",
            "|   mean|    null|29.666666666666668|       8.0|\n",
            "| stddev|    null|1.5275252316519468|       2.0|\n",
            "|    min|Cristian|                28|         6|\n",
            "|    max|    Luca|                31|        10|\n",
            "+-------+--------+------------------+----------+\n",
            "\n"
          ],
          "name": "stdout"
        }
      ]
    },
    {
      "cell_type": "code",
      "metadata": {
        "id": "6r4YaxN6KIvd"
      },
      "source": [
        "### ADDING COLUMNS\n",
        "\n",
        "df_pyspark = df_pyspark.withColumn('Experience after two years', df_pyspark['Experience'] + 2)"
      ],
      "execution_count": 34,
      "outputs": []
    },
    {
      "cell_type": "code",
      "metadata": {
        "colab": {
          "base_uri": "https://localhost:8080/"
        },
        "id": "6VYGS9alK2LB",
        "outputId": "20c7f51c-05a2-4cd0-8740-c68f8f427e74"
      },
      "source": [
        "df_pyspark.show()"
      ],
      "execution_count": 30,
      "outputs": [
        {
          "output_type": "stream",
          "text": [
            "+--------+---+----------+\n",
            "|    Name|Age|Experience|\n",
            "+--------+---+----------+\n",
            "|Cristian| 31|        10|\n",
            "|    Luca| 28|         8|\n",
            "|    Juan| 30|         6|\n",
            "+--------+---+----------+\n",
            "\n"
          ],
          "name": "stdout"
        }
      ]
    },
    {
      "cell_type": "code",
      "metadata": {
        "colab": {
          "base_uri": "https://localhost:8080/"
        },
        "id": "GOGJB5R9KaQ0",
        "outputId": "381334ac-d03b-4fc7-e145-c5366a9c37e1"
      },
      "source": [
        "### DROP COLUMNS\n",
        "\n",
        "df_pyspark.drop('Experience after two years')"
      ],
      "execution_count": 35,
      "outputs": [
        {
          "output_type": "execute_result",
          "data": {
            "text/plain": [
              "DataFrame[Name: string, Age: int, Experience: int]"
            ]
          },
          "metadata": {
            "tags": []
          },
          "execution_count": 35
        }
      ]
    }
  ]
}